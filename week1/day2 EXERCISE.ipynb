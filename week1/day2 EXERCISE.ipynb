{
 "cells": [
  {
   "cell_type": "markdown",
   "id": "d15d8294-3328-4e07-ad16-8a03e9bbfdb9",
   "metadata": {},
   "source": [
    "# Welcome to your first assignment!\n",
    "\n",
    "Instructions are below. Please give this a try, and look in the solutions folder if you get stuck (or feel free to ask me!)"
   ]
  },
  {
   "cell_type": "markdown",
   "id": "ada885d9-4d42-4d9b-97f0-74fbbbfe93a9",
   "metadata": {},
   "source": [
    "<table style=\"margin: 0; text-align: left;\">\n",
    "    <tr>\n",
    "        <td style=\"width: 150px; height: 150px; vertical-align: middle;\">\n",
    "            <img src=\"../resources.jpg\" width=\"150\" height=\"150\" style=\"display: block;\" />\n",
    "        </td>\n",
    "        <td>\n",
    "            <h2 style=\"color:#f71;\">Just before we get to the assignment --</h2>\n",
    "            <span style=\"color:#f71;\">I thought I'd take a second to point you at this page of useful resources for the course. This includes links to all the slides.<br/>\n",
    "            <a href=\"https://edwarddonner.com/2024/11/13/llm-engineering-resources/\">https://edwarddonner.com/2024/11/13/llm-engineering-resources/</a><br/>\n",
    "            Please keep this bookmarked, and I'll continue to add more useful links there over time.\n",
    "            </span>\n",
    "        </td>\n",
    "    </tr>\n",
    "</table>"
   ]
  },
  {
   "cell_type": "markdown",
   "id": "6e9fa1fc-eac5-4d1d-9be4-541b3f2b3458",
   "metadata": {},
   "source": [
    "# HOMEWORK EXERCISE ASSIGNMENT\n",
    "\n",
    "Upgrade the day 1 project to summarize a webpage to use an Open Source model running locally via Ollama rather than OpenAI\n",
    "\n",
    "You'll be able to use this technique for all subsequent projects if you'd prefer not to use paid APIs.\n",
    "\n",
    "**Benefits:**\n",
    "1. No API charges - open-source\n",
    "2. Data doesn't leave your box\n",
    "\n",
    "**Disadvantages:**\n",
    "1. Significantly less power than Frontier Model\n",
    "\n",
    "## Recap on installation of Ollama\n",
    "\n",
    "Simply visit [ollama.com](https://ollama.com) and install!\n",
    "\n",
    "Once complete, the ollama server should already be running locally.  \n",
    "If you visit:  \n",
    "[http://localhost:11434/](http://localhost:11434/)\n",
    "\n",
    "You should see the message `Ollama is running`.  \n",
    "\n",
    "If not, bring up a new Terminal (Mac) or Powershell (Windows) and enter `ollama serve`  \n",
    "And in another Terminal (Mac) or Powershell (Windows), enter `ollama pull llama3.2`  \n",
    "Then try [http://localhost:11434/](http://localhost:11434/) again.\n",
    "\n",
    "If Ollama is slow on your machine, try using `llama3.2:1b` as an alternative. Run `ollama pull llama3.2:1b` from a Terminal or Powershell, and change the code below from `MODEL = \"llama3.2\"` to `MODEL = \"llama3.2:1b\"`"
   ]
  },
  {
   "cell_type": "code",
   "execution_count": 1,
   "id": "4e2a9393-7767-488e-a8bf-27c12dca35bd",
   "metadata": {},
   "outputs": [],
   "source": [
    "# imports\n",
    "\n",
    "import requests\n",
    "from bs4 import BeautifulSoup\n",
    "from IPython.display import Markdown, display"
   ]
  },
  {
   "cell_type": "code",
   "execution_count": 2,
   "id": "29ddd15d-a3c5-4f4e-a678-873f56162724",
   "metadata": {},
   "outputs": [],
   "source": [
    "# Constants\n",
    "\n",
    "OLLAMA_API = \"http://localhost:11434/api/chat\"\n",
    "HEADERS = {\"Content-Type\": \"application/json\"}\n",
    "MODEL = \"llama3.2\""
   ]
  },
  {
   "cell_type": "code",
   "execution_count": 3,
   "id": "dac0a679-599c-441f-9bf2-ddc73d35b940",
   "metadata": {},
   "outputs": [],
   "source": [
    "# Create a messages list using the same format that we used for OpenAI\n",
    "\n",
    "messages = [\n",
    "    {\"role\": \"user\", \"content\": \"Describe some of the business applications of Generative AI\"}\n",
    "]"
   ]
  },
  {
   "cell_type": "code",
   "execution_count": 4,
   "id": "7bb9c624-14f0-4945-a719-8ddb64f66f47",
   "metadata": {},
   "outputs": [],
   "source": [
    "payload = {\n",
    "        \"model\": MODEL,\n",
    "        \"messages\": messages,\n",
    "        \"stream\": False\n",
    "    }"
   ]
  },
  {
   "cell_type": "code",
   "execution_count": 5,
   "id": "479ff514-e8bd-4985-a572-2ea28bb4fa40",
   "metadata": {},
   "outputs": [
    {
     "name": "stderr",
     "output_type": "stream",
     "text": [
      "\u001b[?25lpulling manifest â ‹ \u001b[?25h\u001b[?25l\u001b[2K\u001b[1Gpulling manifest â ™ \u001b[?25h\u001b[?25l\u001b[2K\u001b[1Gpulling manifest â ¹ \u001b[?25h\u001b[?25l\u001b[2K\u001b[1Gpulling manifest â ¸ \u001b[?25h\u001b[?25l\u001b[2K\u001b[1Gpulling manifest â ¼ \u001b[?25h\u001b[?25l\u001b[2K\u001b[1Gpulling manifest â ´ \u001b[?25h\u001b[?25l\u001b[2K\u001b[1Gpulling manifest â ¦ \u001b[?25h\u001b[?25l\u001b[2K\u001b[1Gpulling manifest â § \u001b[?25h\u001b[?25l\u001b[2K\u001b[1Gpulling manifest â ‡ \u001b[?25h\u001b[?25l\u001b[2K\u001b[1Gpulling manifest â � \u001b[?25h\u001b[?25l\u001b[2K\u001b[1Gpulling manifest â ‹ \u001b[?25h\u001b[?25l\u001b[2K\u001b[1Gpulling manifest â ™ \u001b[?25h\u001b[?25l\u001b[2K\u001b[1Gpulling manifest â ¹ \u001b[?25h\u001b[?25l\u001b[2K\u001b[1Gpulling manifest â ¸ \u001b[?25h\u001b[?25l\u001b[2K\u001b[1Gpulling manifest \n",
      "pulling dde5aa3fc5ff... 100% â–•â–ˆâ–ˆâ–ˆâ–ˆâ–ˆâ–ˆâ–ˆâ–ˆâ–ˆâ–ˆâ–ˆâ–ˆâ–ˆâ–ˆâ–ˆâ–ˆâ–� 2.0 GB                         \n",
      "pulling 966de95ca8a6... 100% â–•â–ˆâ–ˆâ–ˆâ–ˆâ–ˆâ–ˆâ–ˆâ–ˆâ–ˆâ–ˆâ–ˆâ–ˆâ–ˆâ–ˆâ–ˆâ–ˆâ–� 1.4 KB                         \n",
      "pulling fcc5a6bec9da... 100% â–•â–ˆâ–ˆâ–ˆâ–ˆâ–ˆâ–ˆâ–ˆâ–ˆâ–ˆâ–ˆâ–ˆâ–ˆâ–ˆâ–ˆâ–ˆâ–ˆâ–� 7.7 KB                         \n",
      "pulling a70ff7e570d9... 100% â–•â–ˆâ–ˆâ–ˆâ–ˆâ–ˆâ–ˆâ–ˆâ–ˆâ–ˆâ–ˆâ–ˆâ–ˆâ–ˆâ–ˆâ–ˆâ–ˆâ–� 6.0 KB                         \n",
      "pulling 56bb8bd477a5... 100% â–•â–ˆâ–ˆâ–ˆâ–ˆâ–ˆâ–ˆâ–ˆâ–ˆâ–ˆâ–ˆâ–ˆâ–ˆâ–ˆâ–ˆâ–ˆâ–ˆâ–�   96 B                         \n",
      "pulling 34bb5ab01051... 100% â–•â–ˆâ–ˆâ–ˆâ–ˆâ–ˆâ–ˆâ–ˆâ–ˆâ–ˆâ–ˆâ–ˆâ–ˆâ–ˆâ–ˆâ–ˆâ–ˆâ–�  561 B                         \n",
      "verifying sha256 digest \n",
      "writing manifest \n",
      "success \u001b[?25h\n"
     ]
    }
   ],
   "source": [
    "# Let's just make sure the model is loaded\n",
    "\n",
    "!ollama pull llama3.2"
   ]
  },
  {
   "cell_type": "code",
   "execution_count": 5,
   "id": "f370d991-a225-4fcb-8a35-1af8e8fad25e",
   "metadata": {},
   "outputs": [
    {
     "name": "stderr",
     "output_type": "stream",
     "text": [
      "\u001b[?25lpulling manifest â ‹ \u001b[?25h\u001b[?25l\u001b[2K\u001b[1Gpulling manifest â ™ \u001b[?25h\u001b[?25l\u001b[2K\u001b[1Gpulling manifest â ¹ \u001b[?25h\u001b[?25l\u001b[2K\u001b[1Gpulling manifest â ¸ \u001b[?25h\u001b[?25l\u001b[2K\u001b[1Gpulling manifest â ¼ \u001b[?25h\u001b[?25l\u001b[2K\u001b[1Gpulling manifest â ´ \u001b[?25h\u001b[?25l\u001b[2K\u001b[1Gpulling manifest â ¦ \u001b[?25h\u001b[?25l\u001b[2K\u001b[1Gpulling manifest â § \u001b[?25h\u001b[?25l\u001b[2K\u001b[1Gpulling manifest â ‡ \u001b[?25h\u001b[?25l\u001b[2K\u001b[1Gpulling manifest â � \u001b[?25h\u001b[?25l\u001b[2K\u001b[1Gpulling manifest â ‹ \u001b[?25h\u001b[?25l\u001b[2K\u001b[1Gpulling manifest â ™ \u001b[?25h\u001b[?25l\u001b[2K\u001b[1Gpulling manifest â ¹ \u001b[?25h\u001b[?25l\u001b[2K\u001b[1Gpulling manifest â ¸ \u001b[?25h\u001b[?25l\u001b[2K\u001b[1Gpulling manifest \n",
      "pulling dde5aa3fc5ff... 100% â–•â–ˆâ–ˆâ–ˆâ–ˆâ–ˆâ–ˆâ–ˆâ–ˆâ–ˆâ–ˆâ–ˆâ–ˆâ–ˆâ–ˆâ–ˆâ–ˆâ–� 2.0 GB                         \n",
      "pulling 966de95ca8a6... 100% â–•â–ˆâ–ˆâ–ˆâ–ˆâ–ˆâ–ˆâ–ˆâ–ˆâ–ˆâ–ˆâ–ˆâ–ˆâ–ˆâ–ˆâ–ˆâ–ˆâ–� 1.4 KB                         \n",
      "pulling fcc5a6bec9da... 100% â–•â–ˆâ–ˆâ–ˆâ–ˆâ–ˆâ–ˆâ–ˆâ–ˆâ–ˆâ–ˆâ–ˆâ–ˆâ–ˆâ–ˆâ–ˆâ–ˆâ–� 7.7 KB                         \n",
      "pulling a70ff7e570d9... 100% â–•â–ˆâ–ˆâ–ˆâ–ˆâ–ˆâ–ˆâ–ˆâ–ˆâ–ˆâ–ˆâ–ˆâ–ˆâ–ˆâ–ˆâ–ˆâ–ˆâ–� 6.0 KB                         \n",
      "pulling 56bb8bd477a5... 100% â–•â–ˆâ–ˆâ–ˆâ–ˆâ–ˆâ–ˆâ–ˆâ–ˆâ–ˆâ–ˆâ–ˆâ–ˆâ–ˆâ–ˆâ–ˆâ–ˆâ–�   96 B                         \n",
      "pulling 34bb5ab01051... 100% â–•â–ˆâ–ˆâ–ˆâ–ˆâ–ˆâ–ˆâ–ˆâ–ˆâ–ˆâ–ˆâ–ˆâ–ˆâ–ˆâ–ˆâ–ˆâ–ˆâ–�  561 B                         \n",
      "verifying sha256 digest \n",
      "writing manifest \n",
      "success \u001b[?25h\n"
     ]
    }
   ],
   "source": [
    "# Let's just make sure the model is loaded\n",
    "\n",
    "!ollama pull llama3.2"
   ]
  },
  {
   "cell_type": "code",
   "execution_count": 6,
   "id": "42b9f644-522d-4e05-a691-56e7658c0ea9",
   "metadata": {},
   "outputs": [
    {
     "name": "stdout",
     "output_type": "stream",
     "text": [
      "Generative AI has numerous business applications across various industries, including:\n",
      "\n",
      "1. **Content Creation**: Generative AI can create high-quality content such as articles, social media posts, and even entire books, reducing the need for human writers.\n",
      "2. **Graphic Design**: AI-powered tools can generate visual content like logos, graphics, and images, saving time and resources for designers.\n",
      "3. **Product Design**: Generative AI can aid in designing new products, reducing development time and costs.\n",
      "4. **Marketing Automation**: AI-generated ad copy, social media posts, and email campaigns can help personalize marketing efforts and increase engagement.\n",
      "5. **Customer Service Chatbots**: Generative AI-powered chatbots can provide 24/7 customer support, answering frequent questions and routing complex issues to human representatives.\n",
      "6. **Data Analysis and Visualization**: AI can help analyze large datasets, identify patterns, and generate insights, making it easier to make data-driven decisions.\n",
      "7. **Music and Audio Production**: Generative AI can create original music, sound effects, and even entire albums, revolutionizing the music industry.\n",
      "8. **Fashion Design**: AI-powered tools can generate new fashion designs, reducing the need for physical prototypes and speeding up the design process.\n",
      "9. **Image Editing and Enhancement**: Generative AI can enhance images, remove noise, and even create entirely new images from scratch.\n",
      "10. **Financial Modeling and Forecasting**: AI-generated financial models can help predict market trends, identify potential risks, and optimize investment strategies.\n",
      "\n",
      "Some specific business use cases for Generative AI include:\n",
      "\n",
      "* **Product Line Extension**: Companies like Coca-Cola and PepsiCo are using Generative AI to create new product lines, such as plant-based beverages.\n",
      "* **Personalized Marketing**: Retailers like Sephora and Nike are leveraging Generative AI to create personalized marketing campaigns based on customer data and preferences.\n",
      "* **Automated Content Moderation**: Social media platforms like Facebook and Twitter are using Generative AI to automate content moderation, reducing the risk of hate speech and harassment.\n",
      "\n",
      "These applications demonstrate the potential for Generative AI to transform business operations, improve efficiency, and drive innovation across various industries.\n"
     ]
    }
   ],
   "source": [
    "# If this doesn't work for any reason, try the 2 versions in the following cells\n",
    "# And double check the instructions in the 'Recap on installation of Ollama' at the top of this lab\n",
    "# And if none of that works - contact me!\n",
    "\n",
    "response = requests.post(OLLAMA_API, json=payload, headers=HEADERS)\n",
    "print(response.json()['message']['content'])"
   ]
  },
  {
   "cell_type": "markdown",
   "id": "6a021f13-d6a1-4b96-8e18-4eae49d876fe",
   "metadata": {},
   "source": [
    "# Introducing the ollama package\n",
    "\n",
    "And now we'll do the same thing, but using the elegant ollama python package instead of a direct HTTP call.\n",
    "\n",
    "Under the hood, it's making the same call as above to the ollama server running at localhost:11434"
   ]
  },
  {
   "cell_type": "code",
   "execution_count": 8,
   "id": "7745b9c4-57dc-4867-9180-61fa5db55eb8",
   "metadata": {},
   "outputs": [
    {
     "name": "stdout",
     "output_type": "stream",
     "text": [
      "Generative AI has numerous business applications across various industries, including:\n",
      "\n",
      "1. **Content Creation**: Generate high-quality content such as articles, social media posts, product descriptions, and more, saving time and resources for content creators.\n",
      "2. **Digital Marketing**: Create personalized marketing materials like email campaigns, ads, and product recommendations using generative AI to improve engagement and conversion rates.\n",
      "3. **Product Design and Development**: Use generative design tools to create innovative product designs, prototypes, and concept art, reducing the need for manual sketching and iteration.\n",
      "4. **Customer Service and Support**: Generate personalized responses to customer inquiries, providing 24/7 support and improving response times.\n",
      "5. **Data Analysis and Visualization**: Create interactive dashboards, reports, and visualizations using generative AI to help businesses gain insights from their data and make informed decisions.\n",
      "6. **Cybersecurity**: Use generative AI-powered tools to detect and respond to cyber threats in real-time, reducing the risk of data breaches and attacks.\n",
      "7. **Healthcare**: Generate medical imaging reports, diagnoses, and treatment plans using AI, improving accuracy and reducing the workload for healthcare professionals.\n",
      "8. **Financial Services**: Create personalized investment recommendations, generate financial forecasts, and develop credit scoring models using generative AI.\n",
      "9. **Education and Training**: Develop personalized learning paths, create adaptive assessments, and generate educational content using generative AI.\n",
      "10. **Fashion and Design**: Use generative design tools to create clothing designs, fabric patterns, and product layouts, reducing the need for manual sketching and iteration.\n",
      "\n",
      "Some specific examples of businesses that are already leveraging Generative AI include:\n",
      "\n",
      "* **Autodesk** (software company): Uses generative AI to design 3D models and products.\n",
      "* **IBM** (technology company): Develops generative AI-powered tools for customer service, marketing, and content creation.\n",
      "* **Salesforce** (CRM provider): Uses generative AI to personalize sales interactions and create customized product recommendations.\n",
      "* **Walmart** (retail company): Leverages generative AI to optimize supply chain management and inventory forecasting.\n",
      "\n",
      "These are just a few examples of the many businesses that are already using Generative AI to improve their operations, efficiency, and customer experiences.\n"
     ]
    }
   ],
   "source": [
    "import ollama\n",
    "\n",
    "response = ollama.chat(model=MODEL, messages=messages)\n",
    "print(response['message']['content'])"
   ]
  },
  {
   "cell_type": "markdown",
   "id": "a4704e10-f5fb-4c15-a935-f046c06fb13d",
   "metadata": {},
   "source": [
    "## Alternative approach - using OpenAI python library to connect to Ollama"
   ]
  },
  {
   "cell_type": "code",
   "execution_count": 9,
   "id": "23057e00-b6fc-4678-93a9-6b31cb704bff",
   "metadata": {},
   "outputs": [
    {
     "name": "stdout",
     "output_type": "stream",
     "text": [
      "Generative artificial intelligence (AI) has numerous business applications across various industries, including but not limited to:\n",
      "\n",
      "1. **Content Generation**: AI can generate high-quality content such as articles, blog posts, product descriptions, and social media posts, saving time and effort for businesses.\n",
      "2. **Image and Video Editing**: Generative models can create visually appealing images and videos, making them ideal for advertising, marketing, and graphic design purposes.\n",
      "3. **Chatbots and Virtual Assistants**: AI-powered chatbots can be used to automate customer support, answer frequently asked questions, and provide basic services.\n",
      "4. **Personalization**: Generative AI can analyze customer data and generate personalized recommendations, offers, and content, improving customer engagement and loyalty.\n",
      "5. **Creative Writing and Storytelling**: AI can assist writers with generating ideas, outlining stories, and even completing entire scripts, making it a valuable tool for creative professionals.\n",
      "6. **Data Analysis and Insights**: Generative models can analyze large datasets and provide insights on trends, patterns, and correlations, helping businesses make more informed decisions.\n",
      "7. **Marketing and Advertising**: AI-powered Generative models can create personalized ads, product recommendations, and social media campaigns, improving marketing efficiency and effectiveness.\n",
      "8. **Customer Service Automation**: AI-generated chatbots and virtual assistants can handle customer inquiries, reducing the burden on human customer support agents.\n",
      "9. **Design and Architecture**: Generative algorithms can generate designs for architectural, product, and graphic design purposes, saving time and effort for designers and architects.\n",
      "10. **Supply Chain Optimization**: AI-powered Generative models can analyze supply chain data and provide insights on bottlenecks, inefficiencies, and opportunities for improvement.\n",
      "11. **Music and Audio Generation**: Generative AI can create music, sound effects, and audio content, making it ideal for film, television, and video game production.\n",
      "12. **Product Development and Design**: AI-powered Generative models can generate new product ideas, designs, and prototypes, reducing the time and cost associated with traditional design processes.\n",
      "\n",
      "Some specific business use cases include:\n",
      "\n",
      "* **McDonald's** using Generative AI to create personalized ads based on customer preferences\n",
      "* **Amazon** leveraging Generative AI to personalize product recommendations for customers\n",
      "* **Microsoft** utilizing Generative AI to generate new ideas and designs for its software products\n",
      "* **Google** employing Generative AI to analyze customer feedback and improve search engine results\n",
      "\n",
      "These examples illustrate the vast potential of Generative AI in transforming business operations, improving efficiency, and driving innovation.\n"
     ]
    }
   ],
   "source": [
    "# There's actually an alternative approach that some people might prefer\n",
    "# You can use the OpenAI client python library to call Ollama:\n",
    "\n",
    "from openai import OpenAI\n",
    "ollama_via_openai = OpenAI(base_url='http://localhost:11434/v1', api_key='ollama')\n",
    "\n",
    "response = ollama_via_openai.chat.completions.create(\n",
    "    model=MODEL,\n",
    "    messages=messages\n",
    ")\n",
    "\n",
    "print(response.choices[0].message.content)"
   ]
  },
  {
   "cell_type": "markdown",
   "id": "bc7d1de3-e2ac-46ff-a302-3b4ba38c4c90",
   "metadata": {},
   "source": [
    "## Also trying the amazing reasoning model DeepSeek\n",
    "\n",
    "Here we use the version of DeepSeek-reasoner that's been distilled to 1.5B.  \n",
    "This is actually a 1.5B variant of Qwen that has been fine-tuned using synethic data generated by Deepseek R1.\n",
    "\n",
    "Other sizes of DeepSeek are [here](https://ollama.com/library/deepseek-r1) all the way up to the full 671B parameter version, which would use up 404GB of your drive and is far too large for most!"
   ]
  },
  {
   "cell_type": "code",
   "execution_count": null,
   "id": "cf9eb44e-fe5b-47aa-b719-0bb63669ab3d",
   "metadata": {},
   "outputs": [],
   "source": [
    "!ollama pull deepseek-r1:1.5b"
   ]
  },
  {
   "cell_type": "code",
   "execution_count": 12,
   "id": "1d3d554b-e00d-4c08-9300-45e073950a76",
   "metadata": {},
   "outputs": [
    {
     "name": "stdout",
     "output_type": "stream",
     "text": [
      "<think>\n",
      "Okay, so I need to come up with definitions for a few core concepts related to language models (LLMs) in the context of transformers. The assistant already gave me the definition for \"Neural Network\" quite comprehensively—it's a computational system that uses connections between neurons to process information.\n",
      "\n",
      "Now, for \"attention,\" I remember something about how models focus on different parts of the input at once. Let's see... It mentions transforming inputs into a sequence or a 2D array and paying attention to parts more relevant for the task. So maybe in simpler terms, attention helps the model pay attention to specific positions in the input, perhaps by scaling their interactions based on some score.\n",
      "\n",
      "Transitors—yes, Transformer models use self-attention mechanisms. The idea is that each token interacts with all others, but the strength of these interactions changes over time. Because transformers are so big, this seems like an efficient way they can process sequences without sequence alignment issues.\n",
      "\n",
      "For \"neural network,\" I should expand. A neural network processes multiple inputs by initializing weights and then processing each input in parallel using activation functions to compute outputs. The sum of all hidden layer activations acts as the node representations, and these are used for making class predictions or generating samples.\n",
      "\n",
      "Putting it together, the assistant's notes were pretty thorough but maybe a bit technical for someone new. Let's try to simplify each point without losing meaning. Maybe use analogies like how people with glasses see things differently or how transformers can be thought of as communication devices that talk in waves.\n",
      "</think>\n",
      "\n",
      "Certainly! Here are simplified explanations for the core concepts related to LLMs:\n",
      "\n",
      "**Neural Network:**\n",
      "Imagine a network where multiple inputs work together by initializing weights and processing each input simultaneously. This is like many light bulbs working at once, combining messages into a single beam of information. When you want the network to focus on specific aspects of your message, it's similar to turning off some parts of the lights—like an attention mechanism.\n",
      "\n",
      "**Attention:**\n",
      "It's like when people with glasses see them differently in color and distance. The model can \"adjust\" which parts it looks at by paying attention to relevant areas. This is crucial because without it, big networks might mix everything up in a way that doesn't make sense to humans. Each attention mechanism uses scaling based on how much information it's focusing on.\n",
      "\n",
      "**Transformer:**\n",
      "Years of research have shown that sequences can be processed very efficiently using transformers. Think of them as super-smart communication devices that talk through waves, building complex thoughts layer by layer. They don't line up input and output directly, but they manage interactions over time so the network's performance doesn’t get messy.\n",
      "\n",
      "Here’s a simplified version: A neural network is like handling multiple inputs in parallel using weights to compute outputs, where each hidden node represents a combined sense (like light beams combining messages). Attention is when parts of the processing can focus on specific inputs, much like adjusting glasses based on viewing distance and color. Transformers are the big idea here, their powerful architecture allows efficient and effective sequence modeling without aligning sequences, inspired by wave-based communication through layers.\n"
     ]
    }
   ],
   "source": [
    "# This may take a few minutes to run! You should then see a fascinating \"thinking\" trace inside <think> tags, followed by some decent definitions\n",
    "\n",
    "response = ollama_via_openai.chat.completions.create(\n",
    "    model=\"deepseek-r1:1.5b\",\n",
    "    messages=[{\"role\": \"user\", \"content\": \"Please give definitions of some core concepts behind LLMs: a neural network, attention and the transformer\"}]\n",
    ")\n",
    "\n",
    "print(response.choices[0].message.content)"
   ]
  },
  {
   "cell_type": "markdown",
   "id": "1622d9bb-5c68-4d4e-9ca4-b492c751f898",
   "metadata": {},
   "source": [
    "# NOW the exercise for you\n",
    "\n",
    "Take the code from day1 and incorporate it here, to build a website summarizer that uses Llama 3.2 running locally instead of OpenAI; use either of the above approaches."
   ]
  },
  {
   "cell_type": "code",
   "execution_count": 11,
   "id": "6de38216-6d1c-48c4-877b-86d403f4e0f8",
   "metadata": {},
   "outputs": [],
   "source": [
    "# A class to represent a Webpage\n",
    "# If you're not familiar with Classes, check out the \"Intermediate Python\" notebook\n",
    "\n",
    "# Some websites need you to use proper headers when fetching them:\n",
    "headers = {\n",
    " \"User-Agent\": \"Mozilla/5.0 (Windows NT 10.0; Win64; x64) AppleWebKit/537.36 (KHTML, like Gecko) Chrome/117.0.0.0 Safari/537.36\"\n",
    "}\n",
    "\n",
    "class Website:\n",
    "\n",
    "    def __init__(self, url):\n",
    "        \"\"\"\n",
    "        Create this Website object from the given url using the BeautifulSoup library\n",
    "        \"\"\"\n",
    "        self.url = url\n",
    "        response = requests.get(url, headers=headers)\n",
    "        soup = BeautifulSoup(response.content, 'html.parser')\n",
    "        self.title = soup.title.string if soup.title else \"No title found\"\n",
    "        for irrelevant in soup.body([\"script\", \"style\", \"img\", \"input\"]):\n",
    "            irrelevant.decompose()\n",
    "        self.text = soup.body.get_text(separator=\"\\n\", strip=True)"
   ]
  },
  {
   "cell_type": "code",
   "execution_count": 13,
   "id": "d6a25e27-f4b1-4e68-8ac9-3a27d54f4abf",
   "metadata": {},
   "outputs": [],
   "source": [
    "# Define our system prompt - you can experiment with this later, changing the last sentence to 'Respond in markdown in Spanish.\"\n",
    "\n",
    "system_prompt = \"You are an assistant that analyzes the contents of a website \\\n",
    "and provides a short summary, ignoring text that might be navigation related. \\\n",
    "Respond in markdown.\""
   ]
  },
  {
   "cell_type": "code",
   "execution_count": 14,
   "id": "f0a01dfd-f1dc-4c26-bead-633a0228f54f",
   "metadata": {},
   "outputs": [],
   "source": [
    "# A function that writes a User Prompt that asks for summaries of websites:\n",
    "\n",
    "def user_prompt_for(website):\n",
    "    user_prompt = f\"You are looking at a website titled {website.title}\"\n",
    "    user_prompt += \"\\nThe contents of this website is as follows; \\\n",
    "please provide a short summary of this website in markdown. \\\n",
    "If it includes news or announcements, then summarize these too.\\n\\n\"\n",
    "    user_prompt += website.text\n",
    "    return user_prompt"
   ]
  },
  {
   "cell_type": "code",
   "execution_count": 15,
   "id": "43d2dd85-60bb-45b6-b32c-7bc175652a05",
   "metadata": {},
   "outputs": [],
   "source": [
    "messages = [\n",
    "    {\"role\": \"system\", \"content\": \"You are a snarky assistant\"},\n",
    "    {\"role\": \"user\", \"content\": \"What is 2 + 2?\"}\n",
    "]"
   ]
  },
  {
   "cell_type": "code",
   "execution_count": 18,
   "id": "6c3fae90-8bff-4f1a-a100-18c20a640a6a",
   "metadata": {},
   "outputs": [],
   "source": [
    "from openai import OpenAI\n",
    "ollama_via_openai = OpenAI(base_url='http://localhost:11434/v1', api_key='ollama')\n",
    "\n",
    "def summarize(url):\n",
    "    website = Website(url)\n",
    "    response = ollama_via_openai.chat.completions.create(\n",
    "        model=MODEL,\n",
    "        messages = messages_for(website)\n",
    "    )\n",
    "    return response.choices[0].message.content"
   ]
  },
  {
   "cell_type": "code",
   "execution_count": 19,
   "id": "301c5b2c-89d1-4a46-9c16-fafeee07c4b1",
   "metadata": {},
   "outputs": [
    {
     "data": {
      "text/plain": [
       "\"**Website Summary**\\n===============\\n\\n### Overview\\n\\nThe website belongs to Edward Donner, a co-founder and CTO of Nebula.io. He is passionate about writing code, experimenting with Large Language Models (LLMs), and DJing.\\n\\n### Content\\n\\n#### Recent Posts\\n\\n* **December 21, 2024**: LLM Workshop – Hands-on with Agents – resources\\n* **November 13, 2024**: Welcome, SuperDataScientists!\\n* **October 16, 2024**: From Software Engineer to AI Data Scientist – resources\\n\\n#### About the Author\\n\\nEdward Donner is the co-founder and CTO of Nebula.io, a startup applying AI to help people discover their potential. He has previously founded and led AI startups, including untapt, which was acquired in 2021.\\n\\n#### News and Announcements\\n\\n* Edward's newsletter subscription sign-up page is open.\\n* Website social media links are provided.\""
      ]
     },
     "execution_count": 19,
     "metadata": {},
     "output_type": "execute_result"
    }
   ],
   "source": [
    "summarize(\"https://edwarddonner.com\")"
   ]
  },
  {
   "cell_type": "code",
   "execution_count": 20,
   "id": "007c8adc-bba5-4719-9ae1-8504522c3709",
   "metadata": {},
   "outputs": [],
   "source": [
    "# A function to display this nicely in the Jupyter output, using markdown\n",
    "\n",
    "def display_summary(url):\n",
    "    summary = summarize(url)\n",
    "    display(Markdown(summary))"
   ]
  },
  {
   "cell_type": "code",
   "execution_count": 21,
   "id": "5bedeef1-f558-4b17-b914-b2fa962596f0",
   "metadata": {},
   "outputs": [
    {
     "data": {
      "text/markdown": [
       "**Summary**\n",
       "\n",
       "* **Nebula.io**: AI-powered platform for talent sourcing, understanding, and management. Co-founded by Edward Donner, CTO.\n",
       "\t+ Applied AI to discover potential and facilitate personal growth.\n",
       "\t+ Patented matching model using innovative LLMs.\n",
       "\t+ Award-winning platform with happy customers and press coverage.\n",
       "* **News/Announcements**:\n",
       "\t+ Upcoming event: January 23, 2025 - LLM Workshop – Hands-on with Agents\n",
       "\t+ Recent news:\n",
       "\t\t- November 13, 2024: Welcome super Data Scientists!\n",
       "\t\t- December 21, 2024: New resources released for Mastering AI and LLM Engineering\n",
       "\t\t- October 16, 2024: Resources for transitioning from Software Engineer to AI Data Scientist"
      ],
      "text/plain": [
       "<IPython.core.display.Markdown object>"
      ]
     },
     "metadata": {},
     "output_type": "display_data"
    }
   ],
   "source": [
    "display_summary(\"https://edwarddonner.com\")"
   ]
  },
  {
   "cell_type": "code",
   "execution_count": null,
   "id": "b934bc86-f9f1-4c4f-91f0-c52390fb793b",
   "metadata": {},
   "outputs": [],
   "source": []
  }
 ],
 "metadata": {
  "kernelspec": {
   "display_name": "Python 3 (ipykernel)",
   "language": "python",
   "name": "python3"
  },
  "language_info": {
   "codemirror_mode": {
    "name": "ipython",
    "version": 3
   },
   "file_extension": ".py",
   "mimetype": "text/x-python",
   "name": "python",
   "nbconvert_exporter": "python",
   "pygments_lexer": "ipython3",
   "version": "3.12.4"
  }
 },
 "nbformat": 4,
 "nbformat_minor": 5
}
